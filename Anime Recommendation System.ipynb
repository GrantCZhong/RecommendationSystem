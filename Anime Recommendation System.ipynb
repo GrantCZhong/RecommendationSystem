{
 "cells": [
  {
   "cell_type": "code",
   "execution_count": null,
   "metadata": {},
   "outputs": [],
   "source": [
    "import pandas as pd\n",
    "import numpy as np\n",
    "import nltk\n",
    "from nltk.tokenize import word_tokenize\n",
    "from nltk.stem import PorterStemmer\n",
    "import spacy\n",
    "en_core = spacy.load('en_core_web_lg')\n",
    "\n",
    "\n",
    "df1 = pd.read_csv('anime_df.csv',index_col=0) # Original Dataframe #"
   ]
  },
  {
   "cell_type": "code",
   "execution_count": null,
   "metadata": {},
   "outputs": [],
   "source": [
    "#!python -m spacy download en_core_web_lg\n",
    "#!pip install spacy"
   ]
  },
  {
   "cell_type": "code",
   "execution_count": null,
   "metadata": {},
   "outputs": [],
   "source": [
    "df1.head()"
   ]
  },
  {
   "cell_type": "code",
   "execution_count": null,
   "metadata": {},
   "outputs": [],
   "source": [
    "def process_rating(s):\n",
    "    return s.split('Rating: ')[1]\n",
    "\n",
    "def process_genres(s):\n",
    "    \n",
    "    genres = s.split('Genres: ')[1]\n",
    "    return genres\n",
    "\n"
   ]
  },
  {
   "cell_type": "code",
   "execution_count": null,
   "metadata": {},
   "outputs": [],
   "source": [
    "df2 = df1 # Cleaned up the genres and ratings columns #\n",
    "\n",
    "df2['Rating'] = df2['Rating'].apply(process_rating)\n",
    "\n",
    "df2.head()"
   ]
  },
  {
   "cell_type": "code",
   "execution_count": null,
   "metadata": {},
   "outputs": [],
   "source": [
    "df3 = df2[df2['Genres'].str.contains('Genres:')] # Clean Genres with all correct scrapes #\n",
    "\n",
    "df3['Genres']= df3['Genres'].apply(process_genres)"
   ]
  },
  {
   "cell_type": "code",
   "execution_count": null,
   "metadata": {},
   "outputs": [],
   "source": [
    "df3.groupby('Title').count() # 66 total anime titles #"
   ]
  },
  {
   "cell_type": "code",
   "execution_count": null,
   "metadata": {},
   "outputs": [],
   "source": [
    "df3['Rating'] = df3['Rating'].astype(str).astype(float)"
   ]
  },
  {
   "cell_type": "code",
   "execution_count": null,
   "metadata": {},
   "outputs": [],
   "source": [
    "average_ratings = df3.groupby('Title')[['Rating']].mean()"
   ]
  },
  {
   "cell_type": "code",
   "execution_count": null,
   "metadata": {},
   "outputs": [],
   "source": [
    "average_ratings = average_ratings.rename(columns = {'Rating':'Average_Rating'})"
   ]
  },
  {
   "cell_type": "code",
   "execution_count": null,
   "metadata": {},
   "outputs": [],
   "source": [
    "df_merge = pd.merge(df3,average_ratings, on='Title')"
   ]
  },
  {
   "cell_type": "code",
   "execution_count": null,
   "metadata": {},
   "outputs": [],
   "source": [
    "df_merge[:3]"
   ]
  },
  {
   "cell_type": "code",
   "execution_count": null,
   "metadata": {},
   "outputs": [],
   "source": [
    "from vaderSentiment.vaderSentiment import SentimentIntensityAnalyzer\n",
    "\n",
    "analyzer = SentimentIntensityAnalyzer()\n",
    "sentiment_score_list = []\n",
    "for review in df_merge['Review']:\n",
    "    \n",
    "    sentiment_score_list.append(analyzer.polarity_scores(str(review))['compound'])"
   ]
  },
  {
   "cell_type": "code",
   "execution_count": null,
   "metadata": {},
   "outputs": [],
   "source": [
    "df_merge['Sentiment_Score'] = np.array(sentiment_score_list)\n",
    "average_sentiment = df_merge.groupby('Title')[['Sentiment_Score']].mean()"
   ]
  },
  {
   "cell_type": "code",
   "execution_count": null,
   "metadata": {},
   "outputs": [],
   "source": [
    "anime_df_merge = pd.merge(df_merge,average_sentiment, on='Title')"
   ]
  },
  {
   "cell_type": "code",
   "execution_count": null,
   "metadata": {},
   "outputs": [],
   "source": [
    "anime_df_merge = anime_df_merge.rename(columns = {'Sentiment_Score_x':'Sentiment_Score','Sentiment_Score_y':'Average_Sentiment'})"
   ]
  },
  {
   "cell_type": "code",
   "execution_count": null,
   "metadata": {},
   "outputs": [],
   "source": [
    "anime_df_merge[:3]"
   ]
  },
  {
   "cell_type": "code",
   "execution_count": null,
   "metadata": {},
   "outputs": [],
   "source": [
    "title_list = anime_df_merge['Title'].unique()\n",
    "title_list"
   ]
  },
  {
   "cell_type": "code",
   "execution_count": null,
   "metadata": {},
   "outputs": [],
   "source": [
    "def get_category():\n",
    "    \n",
    "    print('You can either choose to enter your top 3 Genres or 1 Anime Title.')\n",
    "    print('1. Genres')\n",
    "    print('2. Title')\n",
    "    cat_resp = input()\n",
    "    \n",
    "    return cat_resp\n",
    "\n",
    "def get_suggestions(user_category):\n",
    "    \n",
    "    if user_category == 'Genres':\n",
    "        \n",
    "        print('Here is a list of genres you can pick from:')\n",
    "        print()\n",
    "        print('Action, Adventure, Cars, Comedy, Demons, Drama, Fantasy, Game, Historical, Horror, Magic, Martial Arts, Mecha, Music, Mystery, Romance, School, Sci-Fi, Shounen, Slice of Life, Space, Sports, Super Power, Supernatural')\n",
    "        suggest_resp = input('Enter your top 3 genres:')\n",
    "    else:\n",
    "        \n",
    "        suggest_resp = input('Please enter your show of choice!')\n",
    "        \n",
    "        if suggest_resp not in title_list:\n",
    "            \n",
    "            print('Sorry we do not currently have that title in our database =(')\n",
    "            return get_suggestions(user_category)\n",
    "        \n",
    "\n",
    "    return suggest_resp\n",
    "    \n"
   ]
  },
  {
   "cell_type": "code",
   "execution_count": null,
   "metadata": {},
   "outputs": [],
   "source": [
    "get_suggestions('Title')"
   ]
  },
  {
   "cell_type": "code",
   "execution_count": null,
   "metadata": {},
   "outputs": [],
   "source": [
    "anime_df_merge['Genres'][anime_df_merge['Title']!='Kimetsu no Yaiba'][:1]"
   ]
  },
  {
   "cell_type": "code",
   "execution_count": null,
   "metadata": {},
   "outputs": [],
   "source": [
    "def recommendation_system():\n",
    "    \n",
    "    print('Let us find you a new anime to watch!')\n",
    "    user_category = get_category()\n",
    "    user_suggestions = get_suggestions(user_category)\n",
    "    \n",
    "    if user_category == 'Genres':\n",
    "        print('Genres was chosen!')\n",
    "        similarity_score_list = []\n",
    "        preference = en_core(str(user_suggestions))\n",
    "        \n",
    "        for genres in anime_df_merge['Genres']:\n",
    "            \n",
    "            each_genres = en_core(str(genres))\n",
    "            similarity_score_list.append(preference.similarity(each_genres))\n",
    "            \n",
    "        anime_df_merge['similarity_score'] = np.array(similarity_score_list)    \n",
    "        df_by_genres = anime_df_merge.sort_values(by=['similarity_score','Average_Sentiment'], ascending=False)\n",
    "        top_3_anime = df_by_genres['Title'].unique()[:3]\n",
    "        print('Here are your top 3 Anime Recommendations based on the genres you chose!')\n",
    "        \n",
    "        for name in top_3_anime:\n",
    "            print (name)\n",
    "        \n",
    "    \n",
    "    else:\n",
    "        print('Title was chosen!')\n",
    "        similarity_score_list = []\n",
    "        user_preference = anime_df_merge['Genres'][anime_df_merge['Title']==user_suggestions][:1]\n",
    "        preference = en_core(str(user_preference))\n",
    "        \n",
    "        for genres in anime_df_merge['Genres']:\n",
    "            \n",
    "            each_genres = en_core(str(genres))\n",
    "            similarity_score_list.append(preference.similarity(each_genres))\n",
    "        \n",
    "        anime_df_merge['similarity_score'] = np.array(similarity_score_list)\n",
    "        df_by_genres = anime_df_merge.sort_values(by=['similarity_score','Average_Sentiment'], ascending=False)\n",
    "        df_by_genres = df_by_genres[df_by_genres['Title']!=user_suggestions]\n",
    "        top_3_anime = df_by_genres['Title'].unique()[:3]\n",
    "        print('Here are your top 3 Anime Recommendations based on the anime you chose!')\n",
    "        \n",
    "        for name in top_3_anime:\n",
    "            print(name)\n",
    "            \n",
    "        \n",
    "        \n",
    "        \n",
    "        \n",
    "        \n"
   ]
  },
  {
   "cell_type": "code",
   "execution_count": null,
   "metadata": {},
   "outputs": [],
   "source": [
    "recommendation_system()"
   ]
  }
 ],
 "metadata": {
  "kernelspec": {
   "display_name": "Python 3",
   "language": "python",
   "name": "python3"
  },
  "language_info": {
   "codemirror_mode": {
    "name": "ipython",
    "version": 3
   },
   "file_extension": ".py",
   "mimetype": "text/x-python",
   "name": "python",
   "nbconvert_exporter": "python",
   "pygments_lexer": "ipython3",
   "version": "3.7.4"
  }
 },
 "nbformat": 4,
 "nbformat_minor": 2
}
